{
 "cells": [
  {
   "cell_type": "markdown",
   "id": "80ed34b7",
   "metadata": {},
   "source": [
    "# Arquitectura, modelado y gestión de datos en Data Science\n",
    "<hr />\n",
    "\n",
    "## Semana 2 - Ejercicio práctico 2 - Grupo 10\n",
    "### Realizado por:\n",
    "💻 Mayra Cecilia Salazar Grandes   \n",
    "💻 José Manuel Espinoza Bone"
   ]
  },
  {
   "cell_type": "markdown",
   "id": "8a58d7f8",
   "metadata": {},
   "source": [
    "# 0️⃣ Inicializar ambiente\n",
    "\n",
    "Aquí instalamos las dependencias externas que no se encuentran en la biblioteca estándar de Python para lograr que el presente notebook se puede ejecutar sin problemas."
   ]
  },
  {
   "cell_type": "code",
   "execution_count": null,
   "id": "db89e7ac",
   "metadata": {},
   "outputs": [
    {
     "name": "stdout",
     "output_type": "stream",
     "text": [
      "🟦 Instalando las dependencias externas\n",
      "    ⏳ Ejecutando:  c:\\Users\\Megam\\AppData\\Local\\Programs\\Python\\Python313\\python.exe -m pip install numpy\n",
      "    ⏳ Ejecutando:  c:\\Users\\Megam\\AppData\\Local\\Programs\\Python\\Python313\\python.exe -m pip install pandas\n",
      "    ⏳ Ejecutando:  c:\\Users\\Megam\\AppData\\Local\\Programs\\Python\\Python313\\python.exe -m pip install tabulate\n",
      "    ⏳ Ejecutando:  c:\\Users\\Megam\\AppData\\Local\\Programs\\Python\\Python313\\python.exe -m pip install matplotlib\n",
      "    ⏳ Ejecutando:  c:\\Users\\Megam\\AppData\\Local\\Programs\\Python\\Python313\\python.exe -m pip install seaborn\n",
      "    ⏳ Ejecutando:  c:\\Users\\Megam\\AppData\\Local\\Programs\\Python\\Python313\\python.exe -m pip install requests\n",
      "    ⏳ Ejecutando:  c:\\Users\\Megam\\AppData\\Local\\Programs\\Python\\Python313\\python.exe -m pip install openpyxl\n"
     ]
    }
   ],
   "source": [
    "import sys\n",
    "import subprocess\n",
    "# Función que permite ejecutar un comando del sistema. Recibe una list de string con las partes del comando.\n",
    "# ejemplo: [\"ls\", \"-l\"] es equivalente a ejecutar \"ls -l\".\n",
    "def RunCommand(commandList: list[str]):\n",
    "    print(\"    ⏳ Ejecutando: \", \" \".join(commandList))\n",
    "    result = subprocess.run(commandList, stdout=subprocess.DEVNULL,stderr=subprocess.PIPE, text=True)\n",
    "    if result.returncode != 0:\n",
    "        print(result.stderr) # Si existió error, mostrar en la salida estándar.\n",
    "\n",
    "print(\"🟦 Instalando las dependencias externas\")\n",
    "RunCommand([sys.executable, \"-m\", \"pip\", \"install\", \"numpy\"]) # python -m pip install numpy\n",
    "RunCommand([sys.executable, \"-m\", \"pip\", \"install\", \"pandas\"])\n",
    "RunCommand([sys.executable, \"-m\", \"pip\", \"install\", \"tabulate\"])\n",
    "RunCommand([sys.executable, \"-m\", \"pip\", \"install\", \"matplotlib\"])\n",
    "RunCommand([sys.executable, \"-m\", \"pip\", \"install\", \"seaborn\"])\n",
    "RunCommand([sys.executable, \"-m\", \"pip\", \"install\", \"requests\"])\n",
    "RunCommand([sys.executable, \"-m\", \"pip\", \"install\", \"openpyxl\"]) # Necesaria para leer y escribir los archivos de Excel. Dependencia necesaria en pandas.\n",
    "\n",
    "#Importando las dependencias\n",
    "import pandas\n",
    "import numpy \n",
    "import requests\n",
    "import matplotlib.pyplot as pyplot\n",
    "import seaborn\n",
    "from tabulate import tabulate"
   ]
  },
  {
   "cell_type": "markdown",
   "id": "7a389459",
   "metadata": {},
   "source": [
    "# 1️⃣ Selección de la fuente de datos\n",
    "\n",
    "Dada la problemática actual de inseguridad y violencia en nuestro país Ecuador se ha seleccionado como fuente de datos la información que publica el Ministerio del Interior y Policía Nacional en el contexto de Homicidios intencionales. Se escogió esta fuente ya que hay mucha desinformación sobre las muertes intencionales de parte de personas en redes sociales, medios de comunicación y entes políticos. Se habla de mucha inseguridad y violencia por una parte; y por otra se habla que todo está mejorando y que actualmente las muertes han disminuido significativamente. \n",
    "\n",
    "El ministerio comparte a julio de 2025 varias bases de datos que se actualizan en tiempo real, estas bases de datos se descargan en un archivo comprimido `HOMICIDIOS_INTENCIONALES_JUNIO_2025.rar` que contiene 2 archivos de Excel.\n",
    "Se las puede descargar del siguiente sitio, haciendo click en el botón de descarga de base de datos: https://cifras.ministeriodelinterior.gob.ec/comisioncifras/#/app/estadisticas-seguridad-homicidios   \n",
    "- Tenemos una base de datos en Excel de las muertes intencionales del primer semestre del año actual - ```mdi_homicidios_intencionales_pm_2025_ene_jun.xlsx```.\n",
    "- Tenemos otra base de datos en Excel de las muertes intencionales desde el año 2014 hasta el año anterior al actual - ```mdi_homicidios_intencionales_pm_2014_2024.xlsx```.\n",
    "\n",
    "Este conjunto de datos también se puede encontrar en la siguiente URI: https://datosabiertos.gob.ec/dataset/homicidios-intencionales\n",
    "\n",
    "Se espera investigar las provincias con más muertes, los cantones con más muertes, el tipo de arma más utilizada para matar entre otros insights que se puede uno inspirar y obtener."
   ]
  },
  {
   "cell_type": "markdown",
   "id": "6620a206",
   "metadata": {},
   "source": [
    "# 2️⃣ Adquisión de datos"
   ]
  },
  {
   "cell_type": "code",
   "execution_count": null,
   "id": "db5ad86c",
   "metadata": {},
   "outputs": [
    {
     "name": "stdout",
     "output_type": "stream",
     "text": [
      "🟦 Descargando orígenes de datos\n",
      "    🌎 Descargando: https://datosabiertos.gob.ec/dataset/0ec65ab4-e6ab-40ab-aab9-c91e912f9faf/resource/cb8f704e-2b27-4d7f-9431-d40c4e27fa48/download/mdi_homicidios_intencionales_pm_2025_ene_jun.xlsx\n",
      "    🌎 Descargando: https://datosabiertos.gob.ec/dataset/0ec65ab4-e6ab-40ab-aab9-c91e912f9faf/resource/36b055c8-e10c-4e57-ba25-3046ca5ef15d/download/mdi_homicidios_intencionales_pm_2014_2024.xlsx\n",
      "    ✅ Datos cargados en memoria\n"
     ]
    }
   ],
   "source": [
    "# Descarga de archivos, lectura y combinación con pandas\n",
    "homicidios_2025_uri = \"https://datosabiertos.gob.ec/dataset/0ec65ab4-e6ab-40ab-aab9-c91e912f9faf/resource/cb8f704e-2b27-4d7f-9431-d40c4e27fa48/download/mdi_homicidios_intencionales_pm_2025_ene_jun.xlsx\"\n",
    "homicidios_2014_2024_uri = \"https://datosabiertos.gob.ec/dataset/0ec65ab4-e6ab-40ab-aab9-c91e912f9faf/resource/36b055c8-e10c-4e57-ba25-3046ca5ef15d/download/mdi_homicidios_intencionales_pm_2014_2024.xlsx\"\n",
    "print(\"🟦 Descargando orígenes de datos\")\n",
    "\n",
    "# En los archivos de Excel existe una fila en blanco al inicio, por eso saltamos una fila con skiprows=1\n",
    "# Con sheet_name=1 tomamos la hoja de índice 1 en el archivo de Excel, ya que la primera hoja es de información.\n",
    "print(f\"    🌎 Descargando: {homicidios_2025_uri}\")\n",
    "df_2025 = pandas.read_excel(homicidios_2025_uri, sheet_name=1, skiprows=1)\n",
    "print(f\"    🌎 Descargando: {homicidios_2014_2024_uri}\")\n",
    "df_2014_2024 = pandas.read_excel(homicidios_2014_2024_uri, sheet_name=1, skiprows=1)\n",
    "\n",
    "# El DataFrame de 2025 tiene 32 columnas, falta la columna si es que la persona asesinada registra antecedentes penales.\n",
    "# Adicional tiene una columna en blanco al inicio la cual se va a ignorar/eliminar en la asignación\n",
    "# Estamos tomando todas las filas; y las columnas desde el índice uno hasta la columna final.\n",
    "df_2025 = df_2025.iloc[:, 1:]\n",
    "\n",
    "# El DataFrame de 2014-2024 tiene 33 columnas, tiene la columna si es que registra antecedentes penales.\n",
    "# Adicional tiene una columna en blanco al inicio la cual se va a ignorar/eliminar en la asignación\n",
    "# Estamos tomando todas las filas; y las columnas desde el índice uno hasta la penúltima columna.\n",
    "# Se hace aquí esta transformación por única vez, para evitar hacer copias destructivas sobre la misma variable ya que al ejecutar esta línea a cada momento se va eliminando una columna al final y por este motivo es la excepción no colocarla en la sección 3.\n",
    "df_2014_2024 = df_2014_2024.iloc[:, 1:-1]\n",
    "\n",
    "# Igualadas las estructuras procedemos a realizar la concatenación en vertical. A partir de este momento este es nuestro DataFrame a trabajar.\n",
    "dfMain = pandas.concat([df_2025, df_2014_2024])\n",
    "print(\"    ✅ Datos cargados en memoria\")"
   ]
  },
  {
   "cell_type": "markdown",
   "id": "37f4b52a",
   "metadata": {},
   "source": [
    "# 3️⃣ Limpieza y exploración inicial (Análisis exploratorio de datos - EDA)"
   ]
  },
  {
   "cell_type": "code",
   "execution_count": null,
   "id": "33333a36",
   "metadata": {},
   "outputs": [
    {
     "data": {
      "text/plain": [
       "'ℹ️ Información de DataFrame: Homicidios 2014 - 2025, Análisis preliminar ℹ️'"
      ]
     },
     "metadata": {},
     "output_type": "display_data"
    },
    {
     "name": "stdout",
     "output_type": "stream",
     "text": [
      "<class 'pandas.core.frame.DataFrame'>\n",
      "Index: 35143 entries, 0 to 30523\n",
      "Data columns (total 33 columns):\n",
      " #   Column                    Non-Null Count  Dtype         \n",
      "---  ------                    --------------  -----         \n",
      " 0   tipo_muerte               35143 non-null  object        \n",
      " 1   zona                      35143 non-null  object        \n",
      " 2   subzona                   35143 non-null  object        \n",
      " 3   distrito                  35143 non-null  object        \n",
      " 4   circuito                  35143 non-null  object        \n",
      " 5   codigo_subcircuito        35143 non-null  object        \n",
      " 6   subcircuito               35143 non-null  object        \n",
      " 7   codigo_provincia          35143 non-null  int64         \n",
      " 8   provincia                 35143 non-null  object        \n",
      " 9   codigo_canton             35143 non-null  int64         \n",
      " 10  canton                    35143 non-null  object        \n",
      " 11  coordenada_y              35143 non-null  object        \n",
      " 12  coordenada_x              35143 non-null  object        \n",
      " 13  area_hecho                35143 non-null  object        \n",
      " 14  lugar                     35143 non-null  object        \n",
      " 15  tipo_lugar                35143 non-null  object        \n",
      " 16  fecha_infraccion          35143 non-null  datetime64[ns]\n",
      " 17  hora_infraccion           35143 non-null  object        \n",
      " 18  arma                      35143 non-null  object        \n",
      " 19  tipo_arma                 35143 non-null  object        \n",
      " 20  presunta_motivacion       35143 non-null  object        \n",
      " 21  presun_motiva_observada   35143 non-null  object        \n",
      " 22  probable_causa_motivada   35143 non-null  object        \n",
      " 23  edad                      35143 non-null  object        \n",
      " 24  medida_edad               35143 non-null  object        \n",
      " 25  sexo                      35143 non-null  object        \n",
      " 26  genero                    35143 non-null  object        \n",
      " 27  etnia                     35143 non-null  object        \n",
      " 28  estado_civil              35143 non-null  object        \n",
      " 29  nacionalidad              35143 non-null  object        \n",
      " 30  discapacidad              35143 non-null  object        \n",
      " 31  profesion_registro_civil  35143 non-null  object        \n",
      " 32  instruccion               35143 non-null  object        \n",
      "dtypes: datetime64[ns](1), int64(2), object(30)\n",
      "memory usage: 9.1+ MB\n"
     ]
    },
    {
     "data": {
      "text/plain": [
       "'ℹ️ Estadística descriptiva de DataFrame'"
      ]
     },
     "metadata": {},
     "output_type": "display_data"
    },
    {
     "name": "stdout",
     "output_type": "stream",
     "text": [
      "    🔢 Columnas numéricas\n",
      "╒═══════╤════════════════════╤═════════════════╕\n",
      "│       │   codigo_provincia │   codigo_canton │\n",
      "╞═══════╪════════════════════╪═════════════════╡\n",
      "│ count │           35143    │        35143    │\n",
      "├───────┼────────────────────┼─────────────────┤\n",
      "│ mean  │              10.93 │         1096.96 │\n",
      "├───────┼────────────────────┼─────────────────┤\n",
      "│ std   │               4.54 │          453.04 │\n",
      "├───────┼────────────────────┼─────────────────┤\n",
      "│ min   │               1    │          101    │\n",
      "├───────┼────────────────────┼─────────────────┤\n",
      "│ 25%   │               9    │          901    │\n",
      "├───────┼────────────────────┼─────────────────┤\n",
      "│ 50%   │               9    │          907    │\n",
      "├───────┼────────────────────┼─────────────────┤\n",
      "│ 75%   │              13    │         1301    │\n",
      "├───────┼────────────────────┼─────────────────┤\n",
      "│ max   │              24    │         2403    │\n",
      "╘═══════╧════════════════════╧═════════════════╛\n",
      "    🔡 Columnas no numéricas\n",
      "╒════════╤═══════════════╤════════╤════════════════╤══════════════════╤════════════╤══════════════════════╤═════════════════╤═════════════╤═══════════╤════════════════╤════════════════╤══════════════╤═════════════╤══════════════╤═══════════════════╤═══════════════╤═════════════╤═══════════════════════╤═══════════════════════════╤═══════════════════════════╤════════╤═══════════════╤════════╤═══════════╤═══════════╤════════════════╤════════════════╤════════════════╤════════════════════════════╤═══════════════╕\n",
      "│        │ tipo_muerte   │ zona   │ subzona        │ distrito         │ circuito   │ codigo_subcircuito   │ subcircuito     │ provincia   │ canton    │   coordenada_y │   coordenada_x │ area_hecho   │ lugar       │ tipo_lugar   │ hora_infraccion   │ arma          │ tipo_arma   │ presunta_motivacion   │ presun_motiva_observada   │ probable_causa_motivada   │   edad │ medida_edad   │ sexo   │ genero    │ etnia     │ estado_civil   │ nacionalidad   │ discapacidad   │ profesion_registro_civil   │ instruccion   │\n",
      "╞════════╪═══════════════╪════════╪════════════════╪══════════════════╪════════════╪══════════════════════╪═════════════════╪═════════════╪═══════════╪════════════════╪════════════════╪══════════════╪═════════════╪══════════════╪═══════════════════╪═══════════════╪═════════════╪═══════════════════════╪═══════════════════════════╪═══════════════════════════╪════════╪═══════════════╪════════╪═══════════╪═══════════╪════════════════╪════════════════╪════════════════╪════════════════════════════╪═══════════════╡\n",
      "│ count  │ 35143         │ 35143  │ 35143          │ 35143            │ 35143      │ 35143                │ 35143           │ 35143       │ 35143     │          35143 │          35143 │ 35143        │ 35143       │ 35143        │ 35143             │ 35143         │ 35143       │ 35143                 │ 35143                     │ 35143                     │  35143 │ 35143         │ 35143  │ 35143     │ 35143     │ 35143          │ 35143          │ 35143          │ 35143                      │ 35143         │\n",
      "├────────┼───────────────┼────────┼────────────────┼──────────────────┼────────────┼──────────────────────┼─────────────────┼─────────────┼───────────┼────────────────┼────────────────┼──────────────┼─────────────┼──────────────┼───────────────────┼───────────────┼─────────────┼───────────────────────┼───────────────────────────┼───────────────────────────┼────────┼───────────────┼────────┼───────────┼───────────┼────────────────┼────────────────┼────────────────┼────────────────────────────┼───────────────┤\n",
      "│ unique │ 4             │ 9      │ 26             │ 166              │ 1020       │ 1732                 │ 1770            │ 29          │ 218       │          20522 │          20048 │ 2            │ 102         │ 2            │ 1498              │ 6             │ 63          │ 8                     │ 36                        │ 19                        │     98 │ 2             │ 4      │ 8         │ 11        │ 7              │ 38             │ 9              │ 394                        │ 10            │\n",
      "├────────┼───────────────┼────────┼────────────────┼──────────────────┼────────────┼──────────────────────┼─────────────────┼─────────────┼───────────┼────────────────┼────────────────┼──────────────┼─────────────┼──────────────┼───────────────────┼───────────────┼─────────────┼───────────────────────┼───────────────────────────┼───────────────────────────┼────────┼───────────────┼────────┼───────────┼───────────┼────────────────┼────────────────┼────────────────┼────────────────────────────┼───────────────┤\n",
      "│ top    │ ASESINATO     │ ZONA 8 │ D.M. GUAYAQUIL │ NUEVA PROSPERINA │ GUASMO     │ 09D07C07S02          │ SAN FRANCISCO 2 │ GUAYAS      │ GUAYAQUIL │              0 │              0 │ URBANO       │ VIA PUBLICA │ PUBLICO      │ 22:00:00          │ ARMA DE FUEGO │ PISTOLA     │ DELINCUENCIA COMUN    │ AMENAZA                   │ HERIDA POR ARMA DE FUEGO  │     30 │ A             │ HOMBRE │ MASCULINO │ MESTIZO/A │ SOLTERO        │ ECUADOR        │ NINGUNA        │ ESTUDIANTE                 │ SIN_DATO      │\n",
      "├────────┼───────────────┼────────┼────────────────┼──────────────────┼────────────┼──────────────────────┼─────────────────┼─────────────┼───────────┼────────────────┼────────────────┼──────────────┼─────────────┼──────────────┼───────────────────┼───────────────┼─────────────┼───────────────────────┼───────────────────────────┼───────────────────────────┼────────┼───────────────┼────────┼───────────┼───────────┼────────────────┼────────────────┼────────────────┼────────────────────────────┼───────────────┤\n",
      "│ freq   │ 30857         │ 11539  │ 11539          │ 2012             │ 622        │ 527                  │ 527             │ 15147       │ 9724      │           9327 │           9327 │ 26994        │ 21331       │ 24302        │ 489               │ 27178         │ 12016       │ 27454                 │ 14408                     │ 27114                     │   1617 │ 34444         │ 31665  │ 26204     │ 29616     │ 26348          │ 32521          │ 33768          │ 13479                      │ 26006         │\n",
      "╘════════╧═══════════════╧════════╧════════════════╧══════════════════╧════════════╧══════════════════════╧═════════════════╧═════════════╧═══════════╧════════════════╧════════════════╧══════════════╧═════════════╧══════════════╧═══════════════════╧═══════════════╧═════════════╧═══════════════════════╧═══════════════════════════╧═══════════════════════════╧════════╧═══════════════╧════════╧═══════════╧═══════════╧════════════════╧════════════════╧════════════════╧════════════════════════════╧═══════════════╛\n",
      "    📅 Columnas fechas\n",
      "╒═══════╤═══════════════════════════════╕\n",
      "│       │ fecha_infraccion              │\n",
      "╞═══════╪═══════════════════════════════╡\n",
      "│ count │ 35143                         │\n",
      "├───────┼───────────────────────────────┤\n",
      "│ mean  │ 2022-05-06 08:48:30.075975424 │\n",
      "├───────┼───────────────────────────────┤\n",
      "│ min   │ 2014-01-01 00:00:00           │\n",
      "├───────┼───────────────────────────────┤\n",
      "│ 25%   │ 2021-06-13 00:00:00           │\n",
      "├───────┼───────────────────────────────┤\n",
      "│ 50%   │ 2023-05-01 00:00:00           │\n",
      "├───────┼───────────────────────────────┤\n",
      "│ 75%   │ 2024-06-17 00:00:00           │\n",
      "├───────┼───────────────────────────────┤\n",
      "│ max   │ 2025-06-30 00:00:00           │\n",
      "╘═══════╧═══════════════════════════════╛\n"
     ]
    },
    {
     "data": {
      "text/plain": [
       "'ℹ️ Primeros 10 elementos.'"
      ]
     },
     "metadata": {},
     "output_type": "display_data"
    },
    {
     "name": "stdout",
     "output_type": "stream",
     "text": [
      "╒════╤═══════════════╤════════╤════════════════╤═══════════════════╤══════════════════╤══════════════════════╤════════════════════╤════════════════════╤═════════════╤═════════════════╤════════════╤════════════════╤════════════════╤══════════════╤═══════════════╤══════════════╤═════════════════════╤═══════════════════╤══════════════════╤══════════════════╤═══════════════════════╤═══════════════════════════════════════════╤═══════════════════════════╤══════════╤═══════════════╤════════╤═══════════╤═══════════╤════════════════╤════════════════╤════════════════╤════════════════════════════╤═══════════════╕\n",
      "│    │ tipo_muerte   │ zona   │ subzona        │ distrito          │ circuito         │ codigo_subcircuito   │ subcircuito        │   codigo_provincia │ provincia   │   codigo_canton │ canton     │   coordenada_y │   coordenada_x │ area_hecho   │ lugar         │ tipo_lugar   │ fecha_infraccion    │ hora_infraccion   │ arma             │ tipo_arma        │ presunta_motivacion   │ presun_motiva_observada                   │ probable_causa_motivada   │ edad     │ medida_edad   │ sexo   │ genero    │ etnia     │ estado_civil   │ nacionalidad   │ discapacidad   │ profesion_registro_civil   │ instruccion   │\n",
      "╞════╪═══════════════╪════════╪════════════════╪═══════════════════╪══════════════════╪══════════════════════╪════════════════════╪════════════════════╪═════════════╪═════════════════╪════════════╪════════════════╪════════════════╪══════════════╪═══════════════╪══════════════╪═════════════════════╪═══════════════════╪══════════════════╪══════════════════╪═══════════════════════╪═══════════════════════════════════════════╪═══════════════════════════╪══════════╪═══════════════╪════════╪═══════════╪═══════════╪════════════════╪════════════════╪════════════════╪════════════════════════════╪═══════════════╡\n",
      "│  0 │ HOMICIDIO     │ ZONA 9 │ D.M. QUITO     │ ELOY ALFARO - DMQ │ FERROVIARIA      │ 17D06C11S01          │ FERROVIARIA 1      │                 17 │ PICHINCHA   │            1701 │ QUITO      │       -0.25918 │       -78.516  │ URBANO       │ CASA/VILLA    │ PRIVADO      │ 2025-01-01 00:00:00 │ 00:10:00          │ ARMA BLANCA      │ CUCHILLO         │ DELINCUENCIA COMUN    │ AMENAZA                                   │ HERIDA POR ARMA BLANCA    │ 19       │ A             │ HOMBRE │ MASCULINO │ SIN_DATO  │ SOLTERO        │ ECUADOR        │ NINGUNA        │ ESTUDIANTE                 │ SIN_DATO      │\n",
      "├────┼───────────────┼────────┼────────────────┼───────────────────┼──────────────────┼──────────────────────┼────────────────────┼────────────────────┼─────────────┼─────────────────┼────────────┼────────────────┼────────────────┼──────────────┼───────────────┼──────────────┼─────────────────────┼───────────────────┼──────────────────┼──────────────────┼───────────────────────┼───────────────────────────────────────────┼───────────────────────────┼──────────┼───────────────┼────────┼───────────┼───────────┼────────────────┼────────────────┼────────────────┼────────────────────────────┼───────────────┤\n",
      "│  1 │ ASESINATO     │ ZONA 8 │ D.M. GUAYAQUIL │ FLORIDA           │ MARTHA DE ROLDÓS │ 09D06C02S06          │ MARTHA DE ROLDÓS 6 │                  9 │ GUAYAS      │             901 │ GUAYAQUIL  │       -2.15441 │       -79.9272 │ URBANO       │ VIA PUBLICA   │ PUBLICO      │ 2025-01-01 00:00:00 │ 02:00:00          │ ARMA DE FUEGO    │ PISTOLA          │ DELINCUENCIA COMUN    │ ROBO A PERSONAS                           │ HERIDA POR ARMA DE FUEGO  │ 19       │ A             │ HOMBRE │ MASCULINO │ MESTIZO/A │ SOLTERO        │ ECUADOR        │ NINGUNA        │ ESTUDIANTE                 │ SIN_DATO      │\n",
      "├────┼───────────────┼────────┼────────────────┼───────────────────┼──────────────────┼──────────────────────┼────────────────────┼────────────────────┼─────────────┼─────────────────┼────────────┼────────────────┼────────────────┼──────────────┼───────────────┼──────────────┼─────────────────────┼───────────────────┼──────────────────┼──────────────────┼───────────────────────┼───────────────────────────────────────────┼───────────────────────────┼──────────┼───────────────┼────────┼───────────┼───────────┼────────────────┼────────────────┼────────────────┼────────────────────────────┼───────────────┤\n",
      "│  2 │ ASESINATO     │ ZONA 8 │ D.M. GUAYAQUIL │ NUEVA PROSPERINA  │ NUEVO GUAYAQUIL  │ 09D08C06S01          │ NUEVO GUAYAQUIL 1  │                  9 │ GUAYAS      │             901 │ GUAYAQUIL  │       -2.1205  │       -79.973  │ URBANO       │ VIA PUBLICA   │ PUBLICO      │ 2025-01-01 00:00:00 │ 01:30:00          │ ARMA DE FUEGO    │ PISTOLA          │ DELINCUENCIA COMUN    │ AMENAZA                                   │ HERIDA POR ARMA DE FUEGO  │ 21       │ A             │ MUJER  │ FEMENINO  │ MESTIZO/A │ SOLTERO        │ ECUADOR        │ NINGUNA        │ ESTUDIANTE                 │ SIN_DATO      │\n",
      "├────┼───────────────┼────────┼────────────────┼───────────────────┼──────────────────┼──────────────────────┼────────────────────┼────────────────────┼─────────────┼─────────────────┼────────────┼────────────────┼────────────────┼──────────────┼───────────────┼──────────────┼─────────────────────┼───────────────────┼──────────────────┼──────────────────┼───────────────────────┼───────────────────────────────────────────┼───────────────────────────┼──────────┼───────────────┼────────┼───────────┼───────────┼────────────────┼────────────────┼────────────────┼────────────────────────────┼───────────────┤\n",
      "│  3 │ ASESINATO     │ ZONA 8 │ D.M. GUAYAQUIL │ NUEVA PROSPERINA  │ FLOR DE BASTIÓN  │ 09D08C04S07          │ FLOR DE BASTIÓN 7  │                  9 │ GUAYAS      │             901 │ GUAYAQUIL  │       -2.09249 │       -79.9678 │ URBANO       │ CASA/VILLA    │ PRIVADO      │ 2025-01-01 00:00:00 │ 04:30:00          │ ARMA DE FUEGO    │ PISTOLA          │ DELINCUENCIA COMUN    │ TRAFICO INTERNOS DE DROGAS (MICROTRAFICO) │ HERIDA POR ARMA DE FUEGO  │ 20       │ A             │ MUJER  │ FEMENINO  │ MESTIZO/A │ SOLTERO        │ ECUADOR        │ NINGUNA        │ ESTUDIANTE                 │ SIN_DATO      │\n",
      "├────┼───────────────┼────────┼────────────────┼───────────────────┼──────────────────┼──────────────────────┼────────────────────┼────────────────────┼─────────────┼─────────────────┼────────────┼────────────────┼────────────────┼──────────────┼───────────────┼──────────────┼─────────────────────┼───────────────────┼──────────────────┼──────────────────┼───────────────────────┼───────────────────────────────────────────┼───────────────────────────┼──────────┼───────────────┼────────┼───────────┼───────────┼────────────────┼────────────────┼────────────────┼────────────────────────────┼───────────────┤\n",
      "│  4 │ ASESINATO     │ ZONA 8 │ D.M. GUAYAQUIL │ NUEVA PROSPERINA  │ FLOR DE BASTIÓN  │ 09D08C04S07          │ FLOR DE BASTIÓN 7  │                  9 │ GUAYAS      │             901 │ GUAYAQUIL  │       -2.09249 │       -79.9678 │ URBANO       │ CASA/VILLA    │ PRIVADO      │ 2025-01-01 00:00:00 │ 04:30:00          │ ARMA DE FUEGO    │ PISTOLA          │ DELINCUENCIA COMUN    │ TRAFICO INTERNOS DE DROGAS (MICROTRAFICO) │ HERIDA POR ARMA DE FUEGO  │ 23       │ A             │ HOMBRE │ MASCULINO │ MESTIZO/A │ SOLTERO        │ ECUADOR        │ NINGUNA        │ CONSTRUCTOR                │ SIN_DATO      │\n",
      "├────┼───────────────┼────────┼────────────────┼───────────────────┼──────────────────┼──────────────────────┼────────────────────┼────────────────────┼─────────────┼─────────────────┼────────────┼────────────────┼────────────────┼──────────────┼───────────────┼──────────────┼─────────────────────┼───────────────────┼──────────────────┼──────────────────┼───────────────────────┼───────────────────────────────────────────┼───────────────────────────┼──────────┼───────────────┼────────┼───────────┼───────────┼────────────────┼────────────────┼────────────────┼────────────────────────────┼───────────────┤\n",
      "│  5 │ ASESINATO     │ ZONA 8 │ D.M. GUAYAQUIL │ SUR - DMG         │ GUASMO           │ 09D01C01S02          │ GUASMO 2           │                  9 │ GUAYAS      │             901 │ GUAYAQUIL  │       -2.27733 │       -79.8834 │ URBANO       │ VIA PUBLICA   │ PUBLICO      │ 2025-01-01 00:00:00 │ 06:00:00          │ ARMA DE FUEGO    │ PISTOLA          │ DELINCUENCIA COMUN    │ AMENAZA                                   │ HERIDA POR ARMA DE FUEGO  │ 43       │ A             │ HOMBRE │ MASCULINO │ MESTIZO/A │ SOLTERO        │ ECUADOR        │ NINGUNA        │ COMERCIANTE                │ SIN_DATO      │\n",
      "├────┼───────────────┼────────┼────────────────┼───────────────────┼──────────────────┼──────────────────────┼────────────────────┼────────────────────┼─────────────┼─────────────────┼────────────┼────────────────┼────────────────┼──────────────┼───────────────┼──────────────┼─────────────────────┼───────────────────┼──────────────────┼──────────────────┼───────────────────────┼───────────────────────────────────────────┼───────────────────────────┼──────────┼───────────────┼────────┼───────────┼───────────┼────────────────┼────────────────┼────────────────┼────────────────────────────┼───────────────┤\n",
      "│  6 │ HOMICIDIO     │ ZONA 7 │ EL ORO         │ ZARUMA            │ ZARUMA           │ 07D03C08S01          │ ZARUMA 1           │                  7 │ EL ORO      │             713 │ ZARUMA     │       -3.68582 │       -79.5926 │ URBANO       │ COVACHA/CHOZA │ PRIVADO      │ 2025-01-01 00:00:00 │ 00:15:00          │ ARMA DE FUEGO    │ PISTOLA          │ VIOLENCIA COMUNITARIA │ RIÑAS                                     │ HERIDA POR ARMA DE FUEGO  │ 31       │ A             │ HOMBRE │ MASCULINO │ AFRO      │ SOLTERO        │ ECUADOR        │ NINGUNA        │ EMPLEADO                   │ SIN_DATO      │\n",
      "├────┼───────────────┼────────┼────────────────┼───────────────────┼──────────────────┼──────────────────────┼────────────────────┼────────────────────┼─────────────┼─────────────────┼────────────┼────────────────┼────────────────┼──────────────┼───────────────┼──────────────┼─────────────────────┼───────────────────┼──────────────────┼──────────────────┼───────────────────────┼───────────────────────────────────────────┼───────────────────────────┼──────────┼───────────────┼────────┼───────────┼───────────┼────────────────┼────────────────┼────────────────┼────────────────────────────┼───────────────┤\n",
      "│  7 │ ASESINATO     │ ZONA 1 │ ESMERALDAS     │ ESMERALDAS        │ SANTA VAINAS     │ 08D01C14S01          │ SANTA VAINAS 1     │                  8 │ ESMERALDAS  │             801 │ ESMERALDAS │        0.97141 │       -79.6614 │ URBANO       │ VIA PUBLICA   │ PUBLICO      │ 2025-01-01 00:00:00 │ 04:00:00          │ ARMA DE FUEGO    │ PISTOLA          │ DELINCUENCIA COMUN    │ AMENAZA                                   │ HERIDA POR ARMA DE FUEGO  │ SIN_DATO │ SIN_DATO      │ HOMBRE │ MASCULINO │ MESTIZO/A │ NO DETERMINADO │ NO DETERMINADO │ NINGUNA        │ SIN_DATO                   │ SIN_DATO      │\n",
      "├────┼───────────────┼────────┼────────────────┼───────────────────┼──────────────────┼──────────────────────┼────────────────────┼────────────────────┼─────────────┼─────────────────┼────────────┼────────────────┼────────────────┼──────────────┼───────────────┼──────────────┼─────────────────────┼───────────────────┼──────────────────┼──────────────────┼───────────────────────┼───────────────────────────────────────────┼───────────────────────────┼──────────┼───────────────┼────────┼───────────┼───────────┼────────────────┼────────────────┼────────────────┼────────────────────────────┼───────────────┤\n",
      "│  8 │ ASESINATO     │ ZONA 5 │ LOS RIOS       │ BABAHOYO          │ CENTRO           │ 12D01C05S01          │ CENTRO 1           │                 12 │ LOS RÍOS    │            1201 │ BABAHOYO   │       -1.80067 │       -79.5322 │ URBANO       │ VIA PUBLICA   │ PUBLICO      │ 2025-01-01 00:00:00 │ 06:00:00          │ ARMA DE FUEGO    │ OTROS ARMA CORTA │ DELINCUENCIA COMUN    │ AMENAZA                                   │ HERIDA POR ARMA DE FUEGO  │ 33       │ A             │ HOMBRE │ MASCULINO │ MESTIZO/A │ NO DETERMINADO │ ECUADOR        │ NINGUNA        │ ESTUDIANTE                 │ SUPERIOR      │\n",
      "├────┼───────────────┼────────┼────────────────┼───────────────────┼──────────────────┼──────────────────────┼────────────────────┼────────────────────┼─────────────┼─────────────────┼────────────┼────────────────┼────────────────┼──────────────┼───────────────┼──────────────┼─────────────────────┼───────────────────┼──────────────────┼──────────────────┼───────────────────────┼───────────────────────────────────────────┼───────────────────────────┼──────────┼───────────────┼────────┼───────────┼───────────┼────────────────┼────────────────┼────────────────┼────────────────────────────┼───────────────┤\n",
      "│  9 │ ASESINATO     │ ZONA 7 │ EL ORO         │ SANTA ROSA        │ LAS PALMERAS     │ 07D06C06S01          │ LAS PALMERAS 1     │                  7 │ EL ORO      │             712 │ SANTA ROSA │       -3.44058 │       -79.9496 │ URBANO       │ VIA PUBLICA   │ PUBLICO      │ 2025-01-01 00:00:00 │ 11:00:00          │ ARMA CONTUNDENTE │ PALO             │ VIOLENCIA COMUNITARIA │ RIÑAS                                     │ HERIDAS CONTUSAS          │ 40       │ A             │ HOMBRE │ MASCULINO │ MESTIZO/A │ SOLTERO        │ ECUADOR        │ NINGUNA        │ EMPLEADO                   │ SIN_DATO      │\n",
      "╘════╧═══════════════╧════════╧════════════════╧═══════════════════╧══════════════════╧══════════════════════╧════════════════════╧════════════════════╧═════════════╧═════════════════╧════════════╧════════════════╧════════════════╧══════════════╧═══════════════╧══════════════╧═════════════════════╧═══════════════════╧══════════════════╧══════════════════╧═══════════════════════╧═══════════════════════════════════════════╧═══════════════════════════╧══════════╧═══════════════╧════════╧═══════════╧═══════════╧════════════════╧════════════════╧════════════════╧════════════════════════════╧═══════════════╛\n"
     ]
    },
    {
     "data": {
      "text/plain": [
       "'ℹ️ Contador de valores Nulos/NaN'"
      ]
     },
     "metadata": {},
     "output_type": "display_data"
    },
    {
     "data": {
      "text/plain": [
       "tipo_muerte                 0\n",
       "zona                        0\n",
       "subzona                     0\n",
       "distrito                    0\n",
       "circuito                    0\n",
       "codigo_subcircuito          0\n",
       "subcircuito                 0\n",
       "codigo_provincia            0\n",
       "provincia                   0\n",
       "codigo_canton               0\n",
       "canton                      0\n",
       "coordenada_y                0\n",
       "coordenada_x                0\n",
       "area_hecho                  0\n",
       "lugar                       0\n",
       "tipo_lugar                  0\n",
       "fecha_infraccion            0\n",
       "hora_infraccion             0\n",
       "arma                        0\n",
       "tipo_arma                   0\n",
       "presunta_motivacion         0\n",
       "presun_motiva_observada     0\n",
       "probable_causa_motivada     0\n",
       "edad                        0\n",
       "medida_edad                 0\n",
       "sexo                        0\n",
       "genero                      0\n",
       "etnia                       0\n",
       "estado_civil                0\n",
       "nacionalidad                0\n",
       "discapacidad                0\n",
       "profesion_registro_civil    0\n",
       "instruccion                 0\n",
       "dtype: int64"
      ]
     },
     "metadata": {},
     "output_type": "display_data"
    }
   ],
   "source": [
    "## Función para mostrar la información del DataFrame\n",
    "def ShowTableInfo(df:pandas.DataFrame, title):\n",
    "    display(f\"ℹ️ Información de DataFrame: {title} ℹ️\")\n",
    "    df.info()\n",
    "    display()\n",
    "\n",
    "# Función para mostrar las n primeras filas del DataFrame.\n",
    "def ShowTableHead(df:pandas.DataFrame, headQty=10):\n",
    "    display(f\"ℹ️ Primeros {headQty} elementos.\")\n",
    "    print(tabulate(dfMain.head(headQty), headers=\"keys\", tablefmt=\"fancy_grid\"))\n",
    "    display()\n",
    "\n",
    "\n",
    "# Función para mostrar las n últimas filas del DataFrame.\n",
    "def ShowTableTail(df:pandas.DataFrame, tailQty=10):\n",
    "    display(f\"ℹ️ Últimos {tailQty} elementos.\")\n",
    "    print(tabulate(dfMain.tail(tailQty), headers=\"keys\", tablefmt=\"fancy_grid\"))\n",
    "    display()\n",
    "\n",
    "# Función para mostrar la estadística descriptiva de todas las columnas del DataFrame, por tipo de dato.\n",
    "def ShowTableStats(df:pandas.DataFrame):\n",
    "    display(f\"ℹ️ Estadística descriptiva de DataFrame\")\n",
    "    print(\"    🔢 Columnas numéricas\")\n",
    "    numeric_desc = df.describe(include=[numpy.number]).round(2)\n",
    "    print(tabulate(numeric_desc, headers='keys', tablefmt='fancy_grid'))\n",
    "    print(\"    🔡 Columnas no numéricas\")\n",
    "    non_numeric_desc = df.describe(include=['object', 'bool', 'category'])\n",
    "    print(tabulate(non_numeric_desc, headers='keys', tablefmt='fancy_grid'))\n",
    "    print(\"    📅 Columnas fechas\")\n",
    "    datetime_desc = df.describe(include=['datetime'])\n",
    "    if not datetime_desc.empty:\n",
    "        print(tabulate(datetime_desc, headers='keys', tablefmt='fancy_grid'))\n",
    "    display()\n",
    "\n",
    "# Función para mostrar los valores nulos o NaN de cada columna en un DataFrame\n",
    "def ShowNanValues(df: pandas.DataFrame):\n",
    "    display(f\"ℹ️ Contador de valores Nulos/NaN\")\n",
    "    display(df.isnull().sum())\n",
    "    display()\n",
    "    \n",
    "\n",
    "# EXPLORACIÓN INICIAL\n",
    "ShowTableInfo(dfMain, \"Homicidios 2014 - 2025, Análisis preliminar\")\n",
    "ShowTableStats(dfMain)\n",
    "ShowTableHead(dfMain)\n",
    "ShowNanValues(dfMain)\n",
    "\n",
    "# LIMPIEZA Y CORRECCIONES\n",
    "# La columna \"codigo subcircuito\" tiene un nombre con espacios por lo que se va a corregir su nombre. Inplace en True para evitar hacer copias innecesarias y afectar directamente el DataFrame.\n",
    "dfMain.rename(columns={\"codigo subcircuito\": \"codigo_subcircuito\"}, inplace=True)\n",
    "\n",
    "# Conversión de tipos de datos\n",
    "dfMain[\"tipo_muerte\"]=dfMain[\"tipo_muerte\"]\n",
    "dfMain[\"zona\"]=\n",
    "dfMain[\"subzona\"]=\n",
    "dfMain[\"distrito\"]=\n",
    "dfMain[\"circuito\"]=\n",
    "dfMain[\"codigo subcircuito\"]=\n",
    "dfMain[\"subcircuito\"]=\n",
    "dfMain[\"codigo_provincia\"]=\n",
    "dfMain[\"provincia\"]=\n",
    "dfMain[\"codigo_canton\"]=\n",
    "dfMain[\"canton\"]=\n",
    "dfMain[\"coordenada_y\"]=\n",
    "dfMain[\"coordenada_x\"]=\n",
    "dfMain[\"area_hecho\"]=\n",
    "dfMain[\"lugar\"]=\n",
    "dfMain[\"tipo_lugar\"]=\n",
    "dfMain[\"fecha_infraccion\"]=\n",
    "dfMain[\"hora_infraccion\"]=\n",
    "dfMain[\"arma\"]=\n",
    "dfMain[\"tipo_arma\"]=\n",
    "dfMain[\"presunta_motivacion\"]=\n",
    "dfMain[\"presun_motiva_observada\"]=\n",
    "dfMain[\"probable_causa_motivada\"]=\n",
    "dfMain[\"edad\"]=\n",
    "dfMain[\"medida_edad\"]=\n",
    "dfMain[\"sexo\"]=\n",
    "dfMain[\"genero\"]=\n",
    "dfMain[\"etnia\"]=\n",
    "dfMain[\"estado_civil\"]=\n",
    "dfMain[\"nacionalidad\"]=\n",
    "dfMain[\"discapacidad\"]=\n",
    "dfMain[\"profesion_registro_civil\"]=\n",
    "dfMain[\"instruccion\"]=\n",
    "\n",
    "\n",
    "\n"
   ]
  }
 ],
 "metadata": {
  "kernelspec": {
   "display_name": "Python 3",
   "language": "python",
   "name": "python3"
  },
  "language_info": {
   "codemirror_mode": {
    "name": "ipython",
    "version": 3
   },
   "file_extension": ".py",
   "mimetype": "text/x-python",
   "name": "python",
   "nbconvert_exporter": "python",
   "pygments_lexer": "ipython3",
   "version": "3.13.5"
  }
 },
 "nbformat": 4,
 "nbformat_minor": 5
}
